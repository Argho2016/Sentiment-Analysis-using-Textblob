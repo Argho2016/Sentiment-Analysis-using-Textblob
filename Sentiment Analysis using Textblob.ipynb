{
 "cells": [
  {
   "cell_type": "code",
   "execution_count": 11,
   "id": "2d98abd7",
   "metadata": {},
   "outputs": [
    {
     "name": "stdout",
     "output_type": "stream",
     "text": [
      "Defaulting to user installation because normal site-packages is not writeable\n",
      "Requirement already satisfied: textblob in c:\\users\\my\\appdata\\roaming\\python\\python39\\site-packages (0.17.1)\n",
      "Requirement already satisfied: nltk>=3.1 in c:\\programdata\\anaconda3\\lib\\site-packages (from textblob) (3.7)\n",
      "Requirement already satisfied: click in c:\\programdata\\anaconda3\\lib\\site-packages (from nltk>=3.1->textblob) (8.0.4)\n",
      "Requirement already satisfied: tqdm in c:\\programdata\\anaconda3\\lib\\site-packages (from nltk>=3.1->textblob) (4.64.0)\n",
      "Requirement already satisfied: regex>=2021.8.3 in c:\\programdata\\anaconda3\\lib\\site-packages (from nltk>=3.1->textblob) (2022.3.15)\n",
      "Requirement already satisfied: joblib in c:\\programdata\\anaconda3\\lib\\site-packages (from nltk>=3.1->textblob) (1.1.0)\n",
      "Requirement already satisfied: colorama in c:\\programdata\\anaconda3\\lib\\site-packages (from click->nltk>=3.1->textblob) (0.4.4)\n"
     ]
    }
   ],
   "source": [
    "!pip3 install textblob"
   ]
  },
  {
   "cell_type": "markdown",
   "id": "a39fb6c0",
   "metadata": {},
   "source": [
    "# Sentiment Analysis Using Textblob Basic"
   ]
  },
  {
   "cell_type": "code",
   "execution_count": 1,
   "id": "8f156202",
   "metadata": {},
   "outputs": [],
   "source": [
    "from textblob import TextBlob"
   ]
  },
  {
   "cell_type": "code",
   "execution_count": 2,
   "id": "3216f69a",
   "metadata": {},
   "outputs": [
    {
     "name": "stdout",
     "output_type": "stream",
     "text": [
      "Sentiment(polarity=1.0, subjectivity=1.0)\n",
      "Sentiment(polarity=0.9099999999999999, subjectivity=0.7800000000000001)\n",
      "Sentiment(polarity=-0.6999999999999998, subjectivity=0.6666666666666666)\n"
     ]
    }
   ],
   "source": [
    "Feedback1 = \"The food at Radison was awesome\"\n",
    "Feedback2 = \"The food at Radison was very good\"\n",
    "Feedback3 = \"The food at Radison was bad\"\n",
    "blob1 = TextBlob(Feedback1)\n",
    "blob2 = TextBlob(Feedback2)\n",
    "blob3 = TextBlob(Feedback3)\n",
    "print(blob1.sentiment)\n",
    "print(blob2.sentiment)\n",
    "print(blob3.sentiment)"
   ]
  },
  {
   "cell_type": "markdown",
   "id": "ae9d4450",
   "metadata": {},
   "source": [
    "# Spell Checker"
   ]
  },
  {
   "cell_type": "code",
   "execution_count": 4,
   "id": "b7e714f9",
   "metadata": {},
   "outputs": [
    {
     "data": {
      "text/plain": [
       "TextBlob(\"The food at Madison was awesome\")"
      ]
     },
     "execution_count": 4,
     "metadata": {},
     "output_type": "execute_result"
    }
   ],
   "source": [
    "blob1.correct()"
   ]
  },
  {
   "cell_type": "code",
   "execution_count": 6,
   "id": "799c236c",
   "metadata": {},
   "outputs": [],
   "source": [
    "argho = '''I hate wet and reiny days. It rainned a lot in 1816.... a lot - like everyday; the weaather in Europee was \n",
    "abnormally wet because it rained in Swiitzerland on 130 out of the 183 days from Appril to September. If I was Mary \n",
    "Shelley I might decide to write a book too. Afterall, it was the onnly thing you could do without TV or anything. She \n",
    "said that she \"passed the summer of 1816 in the environs of Geneva...we occasionally amused ourselves with some German \n",
    "stories of ghosts... These tales excited in us a playful desire of imitation\"  So, people were stuck inside and bored. \n",
    "Mary Shelley decided to write a book becuase it was so awful outside. I can totally see her point, you know? I guess I \n",
    "would write a novel if there was nothing else to do.'''"
   ]
  },
  {
   "cell_type": "code",
   "execution_count": 7,
   "id": "88d85ebe",
   "metadata": {},
   "outputs": [],
   "source": [
    "blob = TextBlob(argho)"
   ]
  },
  {
   "cell_type": "code",
   "execution_count": 9,
   "id": "5fc2b5ee",
   "metadata": {},
   "outputs": [
    {
     "data": {
      "text/plain": [
       "TextBlob(\"I hate wet and reins days. It raised a lot in 1816.... a lot - like everyday; the weather in Europe was \n",
       "abnormally wet because it raised in Switzerland on 130 out of the 183 days from April to September. Of I was Mary \n",
       "Shelled I might decide to write a book too. Afterall, it was the only thing you could do without of or anything. The \n",
       "said that she \"passed the summer of 1816 in the environs of Geneva...we occasionally amused ourselves with some German \n",
       "stories of ghosts... These tales excited in us a playful desire of imitation\"  To, people were stuck inside and bored. \n",
       "Mary Shelled decided to write a book because it was so awful outside. I can totally see her point, you know? I guess I \n",
       "would write a novel if there was nothing else to do.\")"
      ]
     },
     "execution_count": 9,
     "metadata": {},
     "output_type": "execute_result"
    }
   ],
   "source": [
    "blob.correct()"
   ]
  },
  {
   "cell_type": "markdown",
   "id": "1eb456c3",
   "metadata": {},
   "source": [
    "# Upper Case and Lower Case"
   ]
  },
  {
   "cell_type": "code",
   "execution_count": 10,
   "id": "5ba57683",
   "metadata": {},
   "outputs": [
    {
     "data": {
      "text/plain": [
       "TextBlob(\"I hate wet and reins days. It raised a lot in 1816.... a lot - like everyday; the weather in Europe was \n",
       "abnormally wet because it raised in Switzerland on 130 out of the 183 days from April to September. Of I was Mary \n",
       "Shelled I might decide to write a book too. Afterall, it was the only thing you could do without of or anything. The \n",
       "said that she \"passed the summer of 1816 in the environs of Geneva...we occasionally amused ourselves with some German \n",
       "stories of ghosts... These tales excited in us a playful desire of imitation\"  To, people were stuck inside and bored. \n",
       "Mary Shelled decided to write a book because it was so awful outside. I can totally see her point, you know? I guess I \n",
       "would write a novel if there was nothing else to do.\")"
      ]
     },
     "execution_count": 10,
     "metadata": {},
     "output_type": "execute_result"
    }
   ],
   "source": [
    "correctedtext = blob.correct()\n",
    "correctedtext"
   ]
  },
  {
   "cell_type": "code",
   "execution_count": 15,
   "id": "d34636d5",
   "metadata": {},
   "outputs": [
    {
     "data": {
      "text/plain": [
       "TextBlob(\"I HATE WET AND REINS DAYS. IT RAISED A LOT IN 1816.... A LOT - LIKE EVERYDAY; THE WEATHER IN EUROPE WAS \n",
       "ABNORMALLY WET BECAUSE IT RAISED IN SWITZERLAND ON 130 OUT OF THE 183 DAYS FROM APRIL TO SEPTEMBER. OF I WAS MARY \n",
       "SHELLED I MIGHT DECIDE TO WRITE A BOOK TOO. AFTERALL, IT WAS THE ONLY THING YOU COULD DO WITHOUT OF OR ANYTHING. THE \n",
       "SAID THAT SHE \"PASSED THE SUMMER OF 1816 IN THE ENVIRONS OF GENEVA...WE OCCASIONALLY AMUSED OURSELVES WITH SOME GERMAN \n",
       "STORIES OF GHOSTS... THESE TALES EXCITED IN US A PLAYFUL DESIRE OF IMITATION\"  TO, PEOPLE WERE STUCK INSIDE AND BORED. \n",
       "MARY SHELLED DECIDED TO WRITE A BOOK BECAUSE IT WAS SO AWFUL OUTSIDE. I CAN TOTALLY SEE HER POINT, YOU KNOW? I GUESS I \n",
       "WOULD WRITE A NOVEL IF THERE WAS NOTHING ELSE TO DO.\")"
      ]
     },
     "execution_count": 15,
     "metadata": {},
     "output_type": "execute_result"
    }
   ],
   "source": [
    "correctedtext.upper()"
   ]
  },
  {
   "cell_type": "code",
   "execution_count": 16,
   "id": "f78cff5a",
   "metadata": {},
   "outputs": [
    {
     "data": {
      "text/plain": [
       "TextBlob(\"i hate wet and reins days. it raised a lot in 1816.... a lot - like everyday; the weather in europe was \n",
       "abnormally wet because it raised in switzerland on 130 out of the 183 days from april to september. of i was mary \n",
       "shelled i might decide to write a book too. afterall, it was the only thing you could do without of or anything. the \n",
       "said that she \"passed the summer of 1816 in the environs of geneva...we occasionally amused ourselves with some german \n",
       "stories of ghosts... these tales excited in us a playful desire of imitation\"  to, people were stuck inside and bored. \n",
       "mary shelled decided to write a book because it was so awful outside. i can totally see her point, you know? i guess i \n",
       "would write a novel if there was nothing else to do.\")"
      ]
     },
     "execution_count": 16,
     "metadata": {},
     "output_type": "execute_result"
    }
   ],
   "source": [
    "correctedtext.lower()"
   ]
  },
  {
   "cell_type": "markdown",
   "id": "9be809dc",
   "metadata": {},
   "source": [
    "# Polarity -- Range[-1, 1]\n",
    "## Where 1 means positive statement and -1 means a negative statement"
   ]
  },
  {
   "cell_type": "code",
   "execution_count": 18,
   "id": "5137a42f",
   "metadata": {},
   "outputs": [
    {
     "data": {
      "text/plain": [
       "-0.18910256410256412"
      ]
     },
     "execution_count": 18,
     "metadata": {},
     "output_type": "execute_result"
    }
   ],
   "source": [
    "correctedtext.polarity"
   ]
  },
  {
   "cell_type": "markdown",
   "id": "2ba364f9",
   "metadata": {},
   "source": [
    "# Subjectivity refers that mostly it is a public opinion\n",
    "## An explanatory article which must be analysed in context\n"
   ]
  },
  {
   "cell_type": "code",
   "execution_count": 19,
   "id": "dfb09a9a",
   "metadata": {},
   "outputs": [
    {
     "data": {
      "text/plain": [
       "0.5365384615384615"
      ]
     },
     "execution_count": 19,
     "metadata": {},
     "output_type": "execute_result"
    }
   ],
   "source": [
    "correctedtext.subjectivity"
   ]
  },
  {
   "cell_type": "markdown",
   "id": "8203846c",
   "metadata": {},
   "source": [
    "# Sentences from text seperated"
   ]
  },
  {
   "cell_type": "code",
   "execution_count": 20,
   "id": "2a80de3c",
   "metadata": {},
   "outputs": [
    {
     "name": "stdout",
     "output_type": "stream",
     "text": [
      "[Sentence(\"I hate wet and reins days.\"), Sentence(\"It raised a lot in 1816.... a lot - like everyday; the weather in Europe was \n",
      "abnormally wet because it raised in Switzerland on 130 out of the 183 days from April to September.\"), Sentence(\"Of I was Mary \n",
      "Shelled I might decide to write a book too.\"), Sentence(\"Afterall, it was the only thing you could do without of or anything.\"), Sentence(\"The \n",
      "said that she \"passed the summer of 1816 in the environs of Geneva...we occasionally amused ourselves with some German \n",
      "stories of ghosts...\"), Sentence(\"These tales excited in us a playful desire of imitation\"  To, people were stuck inside and bored.\"), Sentence(\"Mary Shelled decided to write a book because it was so awful outside.\"), Sentence(\"I can totally see her point, you know?\"), Sentence(\"I guess I \n",
      "would write a novel if there was nothing else to do.\")]\n"
     ]
    }
   ],
   "source": [
    "print(correctedtext.sentences)"
   ]
  },
  {
   "cell_type": "markdown",
   "id": "123e9ba2",
   "metadata": {},
   "source": [
    "# Get the list of words "
   ]
  },
  {
   "cell_type": "code",
   "execution_count": 21,
   "id": "eae8a1ab",
   "metadata": {},
   "outputs": [
    {
     "name": "stdout",
     "output_type": "stream",
     "text": [
      "['I', 'hate', 'wet', 'and', 'reins', 'days', 'It', 'raised', 'a', 'lot', 'in', '1816', 'a', 'lot', 'like', 'everyday', 'the', 'weather', 'in', 'Europe', 'was', 'abnormally', 'wet', 'because', 'it', 'raised', 'in', 'Switzerland', 'on', '130', 'out', 'of', 'the', '183', 'days', 'from', 'April', 'to', 'September', 'Of', 'I', 'was', 'Mary', 'Shelled', 'I', 'might', 'decide', 'to', 'write', 'a', 'book', 'too', 'Afterall', 'it', 'was', 'the', 'only', 'thing', 'you', 'could', 'do', 'without', 'of', 'or', 'anything', 'The', 'said', 'that', 'she', 'passed', 'the', 'summer', 'of', '1816', 'in', 'the', 'environs', 'of', 'Geneva', 'we', 'occasionally', 'amused', 'ourselves', 'with', 'some', 'German', 'stories', 'of', 'ghosts', 'These', 'tales', 'excited', 'in', 'us', 'a', 'playful', 'desire', 'of', 'imitation', 'To', 'people', 'were', 'stuck', 'inside', 'and', 'bored', 'Mary', 'Shelled', 'decided', 'to', 'write', 'a', 'book', 'because', 'it', 'was', 'so', 'awful', 'outside', 'I', 'can', 'totally', 'see', 'her', 'point', 'you', 'know', 'I', 'guess', 'I', 'would', 'write', 'a', 'novel', 'if', 'there', 'was', 'nothing', 'else', 'to', 'do']\n"
     ]
    }
   ],
   "source": [
    "print(correctedtext.words)"
   ]
  },
  {
   "cell_type": "markdown",
   "id": "94f04dc9",
   "metadata": {},
   "source": [
    "# Get the word count"
   ]
  },
  {
   "cell_type": "code",
   "execution_count": 23,
   "id": "3805233f",
   "metadata": {},
   "outputs": [
    {
     "name": "stdout",
     "output_type": "stream",
     "text": [
      "defaultdict(<class 'int'>, {'i': 6, 'hate': 1, 'wet': 2, 'and': 2, 'reins': 1, 'days': 2, 'it': 4, 'raised': 2, 'a': 6, 'lot': 2, 'in': 5, '1816': 2, 'like': 1, 'everyday': 1, 'the': 6, 'weather': 1, 'europe': 1, 'was': 5, 'abnormally': 1, 'because': 2, 'switzerland': 1, 'on': 1, '130': 1, 'out': 1, 'of': 7, '183': 1, 'from': 1, 'april': 1, 'to': 5, 'september': 1, 'mary': 2, 'shelled': 2, 'might': 1, 'decide': 1, 'write': 3, 'book': 2, 'too': 1, 'afterall': 1, 'only': 1, 'thing': 1, 'you': 2, 'could': 1, 'do': 2, 'without': 1, 'or': 1, 'anything': 1, 'said': 1, 'that': 1, 'she': 1, 'passed': 1, 'summer': 1, 'environs': 1, 'geneva': 1, 'we': 1, 'occasionally': 1, 'amused': 1, 'ourselves': 1, 'with': 1, 'some': 1, 'german': 1, 'stories': 1, 'ghosts': 1, 'these': 1, 'tales': 1, 'excited': 1, 'us': 1, 'playful': 1, 'desire': 1, 'imitation': 1, 'people': 1, 'were': 1, 'stuck': 1, 'inside': 1, 'bored': 1, 'decided': 1, 'so': 1, 'awful': 1, 'outside': 1, 'can': 1, 'totally': 1, 'see': 1, 'her': 1, 'point': 1, 'know': 1, 'guess': 1, 'would': 1, 'novel': 1, 'if': 1, 'there': 1, 'nothing': 1, 'else': 1})\n"
     ]
    }
   ],
   "source": [
    "print(correctedtext.word_counts)"
   ]
  },
  {
   "cell_type": "markdown",
   "id": "df8609dc",
   "metadata": {},
   "source": [
    "# Get the Part of Speech tags for the text"
   ]
  },
  {
   "cell_type": "code",
   "execution_count": 24,
   "id": "22fbe875",
   "metadata": {},
   "outputs": [
    {
     "name": "stdout",
     "output_type": "stream",
     "text": [
      "[('I', 'PRP'), ('hate', 'VBP'), ('wet', 'NNS'), ('and', 'CC'), ('reins', 'NNS'), ('days', 'NNS'), ('It', 'PRP'), ('raised', 'VBD'), ('a', 'DT'), ('lot', 'NN'), ('in', 'IN'), ('1816', 'CD'), ('....', 'VBP'), ('a', 'DT'), ('lot', 'NN'), ('like', 'IN'), ('everyday', 'NN'), ('the', 'DT'), ('weather', 'NN'), ('in', 'IN'), ('Europe', 'NNP'), ('was', 'VBD'), ('abnormally', 'RB'), ('wet', 'JJ'), ('because', 'IN'), ('it', 'PRP'), ('raised', 'VBD'), ('in', 'IN'), ('Switzerland', 'NNP'), ('on', 'IN'), ('130', 'CD'), ('out', 'IN'), ('of', 'IN'), ('the', 'DT'), ('183', 'CD'), ('days', 'NNS'), ('from', 'IN'), ('April', 'NNP'), ('to', 'TO'), ('September', 'NNP'), ('Of', 'IN'), ('I', 'PRP'), ('was', 'VBD'), ('Mary', 'NNP'), ('Shelled', 'VBD'), ('I', 'PRP'), ('might', 'MD'), ('decide', 'VB'), ('to', 'TO'), ('write', 'VB'), ('a', 'DT'), ('book', 'NN'), ('too', 'RB'), ('Afterall', 'DT'), ('it', 'PRP'), ('was', 'VBD'), ('the', 'DT'), ('only', 'JJ'), ('thing', 'NN'), ('you', 'PRP'), ('could', 'MD'), ('do', 'VB'), ('without', 'IN'), ('of', 'IN'), ('or', 'CC'), ('anything', 'NN'), ('The', 'DT'), ('said', 'VBD'), ('that', 'IN'), ('she', 'PRP'), ('passed', 'VBD'), ('the', 'DT'), ('summer', 'NN'), ('of', 'IN'), ('1816', 'CD'), ('in', 'IN'), ('the', 'DT'), ('environs', 'NNS'), ('of', 'IN'), ('Geneva', 'NNP'), ('we', 'PRP'), ('occasionally', 'RB'), ('amused', 'VBD'), ('ourselves', 'PRP'), ('with', 'IN'), ('some', 'DT'), ('German', 'JJ'), ('stories', 'NNS'), ('of', 'IN'), ('ghosts', 'NNS'), ('These', 'DT'), ('tales', 'NNS'), ('excited', 'VBD'), ('in', 'IN'), ('us', 'PRP'), ('a', 'DT'), ('playful', 'JJ'), ('desire', 'NN'), ('of', 'IN'), ('imitation', 'NN'), ('To', 'TO'), ('people', 'NNS'), ('were', 'VBD'), ('stuck', 'VBN'), ('inside', 'RB'), ('and', 'CC'), ('bored', 'VBD'), ('Mary', 'NNP'), ('Shelled', 'VBD'), ('decided', 'VBD'), ('to', 'TO'), ('write', 'VB'), ('a', 'DT'), ('book', 'NN'), ('because', 'IN'), ('it', 'PRP'), ('was', 'VBD'), ('so', 'RB'), ('awful', 'JJ'), ('outside', 'NN'), ('I', 'PRP'), ('can', 'MD'), ('totally', 'RB'), ('see', 'VB'), ('her', 'PRP'), ('point', 'NN'), ('you', 'PRP'), ('know', 'VBP'), ('I', 'PRP'), ('guess', 'VBP'), ('I', 'PRP'), ('would', 'MD'), ('write', 'VB'), ('a', 'DT'), ('novel', 'NN'), ('if', 'IN'), ('there', 'EX'), ('was', 'VBD'), ('nothing', 'NN'), ('else', 'RB'), ('to', 'TO'), ('do', 'VB')]\n"
     ]
    }
   ],
   "source": [
    "print(correctedtext.tags)"
   ]
  },
  {
   "cell_type": "markdown",
   "id": "da7fae8b",
   "metadata": {},
   "source": [
    "1. CC Coordinating conjunction\n",
    "2. CD Cardinal number\n",
    "3. DT Determiner\n",
    "4. EX Existential there\n",
    "5. FW Foreign word\n",
    "6. IN Preposition or subordinating conjunction\n",
    "7. JJ Adjective\n",
    "8. JJR Adjective, comparative\n",
    "9. JJS Adjective, superlative\n",
    "10. LS List item marker\n",
    "11. MD Modal\n",
    "12. NN Noun, singular or mass\n",
    "13. NNS Noun, plural\n",
    "14. NNP Proper noun, singular\n",
    "15. NNPS Proper noun, plural\n",
    "16. PDT Predeterminer\n",
    "17. POS Possessive ending\n",
    "18. PRP Personal pronoun\n",
    "19. PRPS Possessive pronoun\n",
    "20. RB Adverb\n",
    "21. RBR Adverb, comparative\n",
    "22. RBS Adverb, superlative \n",
    "23. RP Particle\n",
    "24. SYM Symbol\n",
    "25. TO to\n",
    "26. UH Interjection\n",
    "27. VB Verb, base form\n",
    "28. VBD Verb, past tense\n",
    "29. VBG Verb, gerund or present participle\n",
    "30. VBN Verb, past participle\n",
    "31. VBP Verb, non3rd person singular present\n",
    "32. VBZ Verb, 3rd person singular present\n",
    "33. WDT Whdeterminer\n",
    "34. WP Whpronoun\n",
    "35. PS Possessive whpronoun\n",
    "36. WRB Whadverb"
   ]
  },
  {
   "cell_type": "code",
   "execution_count": null,
   "id": "47be4970",
   "metadata": {},
   "outputs": [],
   "source": []
  }
 ],
 "metadata": {
  "kernelspec": {
   "display_name": "Python 3 (ipykernel)",
   "language": "python",
   "name": "python3"
  },
  "language_info": {
   "codemirror_mode": {
    "name": "ipython",
    "version": 3
   },
   "file_extension": ".py",
   "mimetype": "text/x-python",
   "name": "python",
   "nbconvert_exporter": "python",
   "pygments_lexer": "ipython3",
   "version": "3.9.12"
  }
 },
 "nbformat": 4,
 "nbformat_minor": 5
}
